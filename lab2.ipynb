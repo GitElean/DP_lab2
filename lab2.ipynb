{
 "cells": [
  {
   "cell_type": "markdown",
   "metadata": {},
   "source": [
    "Elean Rivas 19062\n",
    "Javier Alvarez 18051"
   ]
  },
  {
   "cell_type": "markdown",
   "metadata": {},
   "source": [
    "Liberias"
   ]
  },
  {
   "cell_type": "code",
   "execution_count": 4,
   "metadata": {},
   "outputs": [],
   "source": [
    "import tensorflow as tf\n",
    "import pandas as pd\n",
    "import numpy as np\n",
    "import matplotlib.pyplot as plt\n",
    "from sklearn.datasets import load_iris\n",
    "from sklearn.model_selection import train_test_split"
   ]
  },
  {
   "cell_type": "markdown",
   "metadata": {},
   "source": [
    "Observación de Datos para elegir el tipo de red a hacer\n"
   ]
  },
  {
   "cell_type": "code",
   "execution_count": 13,
   "metadata": {},
   "outputs": [
    {
     "name": "stdout",
     "output_type": "stream",
     "text": [
      "Index(['movie_title', 'production_date', 'genres', 'runtime_minutes',\n",
      "       'director_name', 'director_professions', 'director_birthYear',\n",
      "       'director_deathYear', 'movie_averageRating', 'movie_numerOfVotes',\n",
      "       'approval_Index', 'Production budget $', 'Domestic gross $',\n",
      "       'Worldwide gross $'],\n",
      "      dtype='object')\n",
      "                                   movie_title production_date  \\\n",
      "0                     Avatar: The Way of Water      2022-12-09   \n",
      "1                            Avengers: Endgame      2019-04-23   \n",
      "2  Pirates of the Caribbean: On Stranger Tides      2011-05-20   \n",
      "3                      Avengers: Age of Ultron      2015-04-22   \n",
      "4                       Avengers: Infinity War      2018-04-25   \n",
      "\n",
      "                     genres  runtime_minutes  director_name  \\\n",
      "0  Action,Adventure,Fantasy            192.0  James Cameron   \n",
      "1    Action,Adventure,Drama            181.0              -   \n",
      "2  Action,Adventure,Fantasy            137.0   Rob Marshall   \n",
      "3   Action,Adventure,Sci-Fi            141.0    Joss Whedon   \n",
      "4   Action,Adventure,Sci-Fi            149.0              -   \n",
      "\n",
      "              director_professions director_birthYear director_deathYear  \\\n",
      "0         writer,producer,director               1954              alive   \n",
      "1                                -                  -                  -   \n",
      "2  director,miscellaneous,producer               1960              alive   \n",
      "3         writer,producer,director               1964              alive   \n",
      "4                                -                  -                  -   \n",
      "\n",
      "   movie_averageRating  movie_numerOfVotes  approval_Index  \\\n",
      "0                  7.8            277543.0        7.061101   \n",
      "1                  8.4           1143642.0        8.489533   \n",
      "2                  6.6            533763.0        6.272064   \n",
      "3                  7.3            870573.0        7.214013   \n",
      "4                  8.4           1091968.0        8.460958   \n",
      "\n",
      "   Production budget $  Domestic gross $  Worldwide gross $  \n",
      "0            460000000         667830256         2265935552  \n",
      "1            400000000         858373000         2794731755  \n",
      "2            379000000         241071802         1045713802  \n",
      "3            365000000         459005868         1395316979  \n",
      "4            300000000         678815482         2048359754  \n"
     ]
    }
   ],
   "source": [
    "# Load data into a DataFrame\n",
    "dataset = pd.read_csv('movie_statistic_dataset.csv')\n",
    "columnas = dataset.columns\n",
    "print(columnas)\n",
    "pre = dataset.head()\n",
    "print(pre)"
   ]
  },
  {
   "cell_type": "markdown",
   "metadata": {},
   "source": [
    "La red será de clasificación"
   ]
  }
 ],
 "metadata": {
  "kernelspec": {
   "display_name": "Python 3",
   "language": "python",
   "name": "python3"
  },
  "language_info": {
   "codemirror_mode": {
    "name": "ipython",
    "version": 3
   },
   "file_extension": ".py",
   "mimetype": "text/x-python",
   "name": "python",
   "nbconvert_exporter": "python",
   "pygments_lexer": "ipython3",
   "version": "3.10.6"
  },
  "orig_nbformat": 4
 },
 "nbformat": 4,
 "nbformat_minor": 2
}
